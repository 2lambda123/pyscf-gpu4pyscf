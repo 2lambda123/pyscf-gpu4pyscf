{
 "cells": [
  {
   "cell_type": "code",
   "execution_count": 10,
   "metadata": {},
   "outputs": [
    {
     "data": {
      "text/plain": [
       "''"
      ]
     },
     "execution_count": 9,
     "metadata": {},
     "output_type": "execute_result"
    }
   ],
   "source": [
    "import pandas as pd\n",
    "import numpy as np"
   ]
  },
  {
   "cell_type": "markdown",
   "metadata": {},
   "source": [
    "# Direct SCF with different xc"
   ]
  },
  {
   "cell_type": "code",
   "execution_count": 12,
   "metadata": {},
   "outputs": [
    {
     "data": {
      "text/plain": [
       "''"
      ]
     },
     "execution_count": 11,
     "metadata": {},
     "output_type": "execute_result"
    },
    {
     "name": "stdout",
     "output_type": "stream",
     "text": [
      "|   mol |   natm |    LDA |    PBE |   B3LYP |    M06 |   wB97m-v |\n",
      "|------:|-------:|-------:|-------:|--------:|-------:|----------:|\n",
      "|     2 |      3 |   0.22 |   0.32 |    0.27 |   0.25 |      0.69 |\n",
      "|     3 |     15 |   0.68 |   0.25 |    1.58 |   2.61 |      4.84 |\n",
      "|     4 |     30 |   1.59 |   2.63 |    4.09 |   6.93 |      8.17 |\n",
      "|     5 |     60 |   2.86 |   3.64 |    7.15 |   8.44 |      9.44 |\n",
      "|     6 |     96 |   4.34 |   4.39 |    7.75 |  10.58 |      9.87 |\n",
      "|     7 |    141 |   4.07 |   4.1  |    8.87 |  10.47 |     10.13 |\n",
      "|     8 |    228 |   4.34 |   4.58 |    9.39 |  10.48 |      9.36 |\n",
      "|     9 |    300 |   5.05 |   5.21 |    9.35 |  11.36 |    nan    |\n",
      "|    10 |    417 |   4.91 | nan    |  nan    | nan    |    nan    |\n",
      "|    10 |    nan | nan    | nan    |  nan    | nan    |    nan    |\n"
     ]
    }
   ],
   "source": [
    "A100_file = 'A100-SXM-80GB.csv'\n",
    "qchem_file = 'qchem-32-cores-cpu.csv'\n",
    "\n",
    "keys = ['mol', 'natm']\n",
    "empty = {'mol':[], 'natm':[]}\n",
    "df_A100_scf = pd.DataFrame(empty)\n",
    "df_V100_scf = pd.DataFrame(empty)\n",
    "df_A100_grad = pd.DataFrame(empty)\n",
    "df_V100_grad = pd.DataFrame(empty)\n",
    "path = 'water_clusters/xc/'\n",
    "for xc in ['LDA', 'PBE', 'B3LYP', 'M06', 'wB97m-v']:\n",
    "    df_qchem = pd.read_csv(path + xc + '/' + qchem_file)\n",
    "    df_qchem = df_qchem.rename(columns={'t_scf':'scf_qchem', 't_gradient':'grad_qchem'})\n",
    "    \n",
    "    df_A100 = pd.read_csv(path + xc + '/' + A100_file)\n",
    "    df_A100 = df_A100.rename(columns={'t_scf':'scf_A100', 't_gradient':'grad_A100'})\n",
    "    df_A100 = df_A100.merge(df_qchem, how='outer', on='mol')\n",
    "    \n",
    "    df_A100['scf_'+xc] = df_A100['scf_qchem']/df_A100['scf_A100']\n",
    "    df_A100['grad_'+xc] = df_A100['grad_qchem']/df_A100['grad_A100']\n",
    "    df_A100 = df_A100[keys+['scf_'+xc, 'grad_'+xc]]\n",
    "    \n",
    "    df_A100_scf = df_A100_scf.merge(df_A100[keys+['scf_'+xc]], how='outer', on=keys)\n",
    "    df_A100_grad= df_A100_grad.merge(df_A100[keys+['grad_'+xc]], how='outer', on=keys)\n",
    "    df_A100_scf = df_A100_scf.rename(columns={'scf_'+xc:xc})\n",
    "    df_A100_grad = df_A100_grad.rename(columns={'grad_'+xc:xc})\n",
    "    df_A100_scf[xc] = df_A100_scf[xc].apply(lambda x: round(x,2))\n",
    "    df_A100_grad[xc] = df_A100_grad[xc].apply(lambda x: round(x,2))\n",
    "\n",
    "print(df_A100_scf.to_markdown(index=False))"
   ]
  },
  {
   "cell_type": "code",
   "execution_count": 14,
   "metadata": {},
   "outputs": [
    {
     "data": {
      "text/plain": [
       "''"
      ]
     },
     "execution_count": 13,
     "metadata": {},
     "output_type": "execute_result"
    },
    {
     "name": "stdout",
     "output_type": "stream",
     "text": [
      "|   mol |   natm |    LDA |    PBE |   B3LYP |    M06 |   wB97m-v |\n",
      "|------:|-------:|-------:|-------:|--------:|-------:|----------:|\n",
      "|     2 |      3 |   0.82 |   0.89 |    0.75 |   0.82 |      0.6  |\n",
      "|     3 |     15 |   0.39 |   0.19 |    1.46 |   1.52 |      1.47 |\n",
      "|     4 |     30 |   0.56 |   1.04 |    2.07 |   2.25 |      1.89 |\n",
      "|     5 |     60 |   0.54 |   0.87 |    2.42 |   2.4  |      1.77 |\n",
      "|     6 |     96 |   0.6  |   0.87 |    2.36 |   2.51 |      1.53 |\n",
      "|     7 |    141 |   0.93 |   1.1  |    2.61 |   2.59 |      1.55 |\n",
      "|     8 |    228 |   1.92 |   1.9  |    3.37 |   3.39 |      1.83 |\n",
      "|     9 |    300 |   2.26 |   2.02 |    3.06 |   3.59 |    nan    |\n",
      "|    10 |    417 |   2.46 | nan    |  nan    | nan    |    nan    |\n",
      "|    10 |    nan | nan    | nan    |  nan    | nan    |    nan    |\n"
     ]
    }
   ],
   "source": [
    "print(df_A100_grad.to_markdown(index=False))"
   ]
  },
  {
   "cell_type": "code",
   "execution_count": null,
   "metadata": {},
   "outputs": [],
   "source": []
  },
  {
   "cell_type": "code",
   "execution_count": null,
   "metadata": {},
   "outputs": [],
   "source": []
  },
  {
   "cell_type": "code",
   "execution_count": null,
   "metadata": {},
   "outputs": [],
   "source": []
  },
  {
   "cell_type": "code",
   "execution_count": null,
   "metadata": {},
   "outputs": [],
   "source": []
  },
  {
   "cell_type": "code",
   "execution_count": null,
   "metadata": {},
   "outputs": [],
   "source": []
  },
  {
   "cell_type": "code",
   "execution_count": null,
   "metadata": {},
   "outputs": [],
   "source": []
  }
 ],
 "metadata": {
  "kernelspec": {
   "display_name": "Merlin (Python3 + MLSQL) [Spark 3.0]",
   "language": "python",
   "name": "merlin_kernel"
  },
  "language_info": {
   "codemirror_mode": {
    "name": "ipython",
    "version": 3
   },
   "file_extension": ".py",
   "mimetype": "text/x-python",
   "name": "python",
   "nbconvert_exporter": "python",
   "pygments_lexer": "ipython3",
   "version": "3.9.2"
  },
  "orig_nbformat": 4
 },
 "nbformat": 4,
 "nbformat_minor": 2
}
