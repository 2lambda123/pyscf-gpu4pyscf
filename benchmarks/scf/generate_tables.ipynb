{
 "cells": [
  {
   "cell_type": "code",
   "execution_count": 8,
   "metadata": {
    "vscode": {
     "languageId": "python"
    }
   },
   "outputs": [
    {
     "data": {
      "text/plain": [
       "''"
      ]
     },
     "execution_count": 7,
     "metadata": {},
     "output_type": "execute_result"
    }
   ],
   "source": [
    "import pandas as pd\n",
    "import numpy as np"
   ]
  },
  {
   "cell_type": "markdown",
   "metadata": {},
   "source": [
    "# Direct SCF with different xc"
   ]
  },
  {
   "cell_type": "code",
   "execution_count": 22,
   "metadata": {
    "vscode": {
     "languageId": "python"
    }
   },
   "outputs": [
    {
     "data": {
      "text/plain": [
       "''"
      ]
     },
     "execution_count": 21,
     "metadata": {},
     "output_type": "execute_result"
    },
    {
     "name": "stdout",
     "output_type": "stream",
     "text": [
      "|   mol |   natm |    LDA |    PBE |   B3LYP |    M06 |   wB97m-v |\n",
      "|------:|-------:|-------:|-------:|--------:|-------:|----------:|\n",
      "|     2 |      3 |   0.22 |   0.32 |    0.13 |   0.24 |      0.69 |\n",
      "|     3 |     15 |   0.81 |   1.35 |    1.45 |   1.8  |      4.85 |\n",
      "|     4 |     30 |   1.83 |   2.76 |    4.1  |   6.66 |      7.61 |\n",
      "|     5 |     60 |   2.88 |   3.71 |    7.24 |   8.36 |      9.44 |\n",
      "|     6 |     96 |   4.27 |   4.48 |    7.73 |  10    |      9.79 |\n",
      "|     7 |    141 |   3.94 |   4.07 |    8.57 |  10.39 |      9.39 |\n",
      "|     8 |    228 | nan    | nan    |  nan    | nan    |    nan    |\n",
      "|     9 |    300 | nan    | nan    |  nan    | nan    |    nan    |\n",
      "|    10 |    417 | nan    | nan    |  nan    | nan    |    nan    |\n"
     ]
    }
   ],
   "source": [
    "A100_file = 'A100-SXM-80GB.csv'\n",
    "qchem_file = 'qchem-32-cores-cpu.csv'\n",
    "\n",
    "keys = ['mol', 'natm']\n",
    "empty = {'mol':[], 'natm':[]}\n",
    "df_A100_scf = pd.DataFrame(empty)\n",
    "df_V100_scf = pd.DataFrame(empty)\n",
    "df_A100_grad = pd.DataFrame(empty)\n",
    "df_V100_grad = pd.DataFrame(empty)\n",
    "path = 'water_clusters/xc/'\n",
    "for xc in ['LDA', 'PBE', 'B3LYP', 'M06', 'wB97m-v']:\n",
    "    df_qchem = pd.read_csv(path + xc + '/' + qchem_file)\n",
    "    df_qchem = df_qchem.rename(columns={'t_scf':'scf_qchem', 't_gradient':'grad_qchem'})\n",
    "    \n",
    "    df_A100 = pd.read_csv(path + xc + '/' + A100_file)\n",
    "    df_A100 = df_A100.rename(columns={'t_scf':'scf_A100', 't_gradient':'grad_A100'})\n",
    "    df_A100 = df_A100.merge(df_qchem, how='outer', on='mol')\n",
    "    \n",
    "    df_A100['scf_'+xc] = df_A100['scf_qchem']/df_A100['scf_A100']\n",
    "    df_A100['grad_'+xc] = df_A100['grad_qchem']/df_A100['grad_A100']\n",
    "    df_A100 = df_A100[keys+['scf_'+xc, 'grad_'+xc]]\n",
    "    \n",
    "    df_A100_scf = df_A100_scf.merge(df_A100[keys+['scf_'+xc]], how='outer', on=keys)\n",
    "    df_A100_grad= df_A100_grad.merge(df_A100[keys+['grad_'+xc]], how='outer', on=keys)\n",
    "    df_A100_scf = df_A100_scf.rename(columns={'scf_'+xc:xc})\n",
    "    df_A100_grad = df_A100_grad.rename(columns={'grad_'+xc:xc})\n",
    "    df_A100_scf[xc] = df_A100_scf[xc].apply(lambda x: round(x,2))\n",
    "    df_A100_grad[xc] = df_A100_grad[xc].apply(lambda x: round(x,2))\n",
    "\n",
    "print(df_A100_scf.to_markdown(index=False))"
   ]
  },
  {
   "cell_type": "code",
   "execution_count": 24,
   "metadata": {
    "vscode": {
     "languageId": "python"
    }
   },
   "outputs": [
    {
     "data": {
      "text/plain": [
       "''"
      ]
     },
     "execution_count": 23,
     "metadata": {},
     "output_type": "execute_result"
    },
    {
     "name": "stdout",
     "output_type": "stream",
     "text": [
      "|   mol |   natm |    LDA |    PBE |   B3LYP |    M06 |   wB97m-v |\n",
      "|------:|-------:|-------:|-------:|--------:|-------:|----------:|\n",
      "|     2 |      3 |   0.85 |   0.84 |    0.77 |   0.74 |      0.57 |\n",
      "|     3 |     15 |   0.56 |   0.89 |    1.44 |   1.57 |      1.52 |\n",
      "|     4 |     30 |   0.59 |   1.03 |    2.13 |   2.08 |      1.9  |\n",
      "|     5 |     60 |   0.53 |   0.87 |    2.45 |   2.35 |      1.73 |\n",
      "|     6 |     96 |   0.61 |   0.87 |    2.43 |   2.37 |      1.59 |\n",
      "|     7 |    141 |   0.92 |   1.08 |    2.61 |   2.62 |      1.53 |\n",
      "|     8 |    228 | nan    | nan    |  nan    | nan    |    nan    |\n",
      "|     9 |    300 | nan    | nan    |  nan    | nan    |    nan    |\n",
      "|    10 |    417 | nan    | nan    |  nan    | nan    |    nan    |\n"
     ]
    }
   ],
   "source": [
    "print(df_A100_grad.to_markdown(index=False))"
   ]
  },
  {
   "cell_type": "code",
   "execution_count": null,
   "metadata": {
    "vscode": {
     "languageId": "python"
    }
   },
   "outputs": [],
   "source": []
  },
  {
   "cell_type": "code",
   "execution_count": null,
   "metadata": {
    "vscode": {
     "languageId": "python"
    }
   },
   "outputs": [],
   "source": []
  },
  {
   "cell_type": "code",
   "execution_count": null,
   "metadata": {
    "vscode": {
     "languageId": "python"
    }
   },
   "outputs": [],
   "source": []
  },
  {
   "cell_type": "code",
   "execution_count": null,
   "metadata": {
    "vscode": {
     "languageId": "python"
    }
   },
   "outputs": [],
   "source": []
  },
  {
   "cell_type": "code",
   "execution_count": null,
   "metadata": {
    "vscode": {
     "languageId": "python"
    }
   },
   "outputs": [],
   "source": []
  },
  {
   "cell_type": "code",
   "execution_count": null,
   "metadata": {
    "vscode": {
     "languageId": "python"
    }
   },
   "outputs": [],
   "source": []
  }
 ],
 "metadata": {
  "kernelspec": {
   "display_name": "Merlin (Python3 + MLSQL) [Spark 3.0]",
   "language": "python",
   "name": "merlin_kernel"
  },
  "language_info": {
   "codemirror_mode": {
    "name": "ipython",
    "version": 3
   },
   "file_extension": ".py",
   "mimetype": "text/x-python",
   "name": "Python3 with MLSQL",
   "nbconvert_exporter": "python",
   "pygments_lexer": "ipython3",
   "version": "0.1"
  },
  "orig_nbformat": 4
 },
 "nbformat": 4,
 "nbformat_minor": 2
}
